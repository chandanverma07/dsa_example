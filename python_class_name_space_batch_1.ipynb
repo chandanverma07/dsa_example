{
 "cells": [
  {
   "cell_type": "code",
   "execution_count": 6,
   "id": "7badcdf3",
   "metadata": {},
   "outputs": [],
   "source": [
    "def greaterNumber(x):\n",
    "    \"\"\"this function will retun bigger number\"\"\"\n",
    "    x=set(x)\n",
    "    \n",
    "    return max(x)"
   ]
  },
  {
   "cell_type": "code",
   "execution_count": 8,
   "id": "960b3361",
   "metadata": {},
   "outputs": [],
   "source": [
    "#greaterNumber([15,8,9,0])"
   ]
  },
  {
   "cell_type": "code",
   "execution_count": 19,
   "id": "b6df27a1",
   "metadata": {},
   "outputs": [],
   "source": [
    "def addNumber(x,y):\n",
    "    return x+y"
   ]
  },
  {
   "cell_type": "code",
   "execution_count": 20,
   "id": "be6d7665",
   "metadata": {},
   "outputs": [
    {
     "data": {
      "text/plain": [
       "9"
      ]
     },
     "execution_count": 20,
     "metadata": {},
     "output_type": "execute_result"
    }
   ],
   "source": [
    "addNumber(y=0,x=9)"
   ]
  },
  {
   "cell_type": "code",
   "execution_count": 13,
   "id": "009eee32",
   "metadata": {},
   "outputs": [],
   "source": [
    "def addNumber(x=9,y=0):\n",
    "    return x+y"
   ]
  },
  {
   "cell_type": "code",
   "execution_count": 15,
   "id": "ef0f2035",
   "metadata": {},
   "outputs": [
    {
     "data": {
      "text/plain": [
       "19"
      ]
     },
     "execution_count": 15,
     "metadata": {},
     "output_type": "execute_result"
    }
   ],
   "source": [
    "addNumber(9,10)"
   ]
  },
  {
   "cell_type": "code",
   "execution_count": 22,
   "id": "4843fdc9",
   "metadata": {},
   "outputs": [],
   "source": [
    "def welcom(*names):\n",
    "    for name in names:\n",
    "        print(\"Hello\",name)\n"
   ]
  },
  {
   "cell_type": "code",
   "execution_count": 24,
   "id": "8082dd35",
   "metadata": {},
   "outputs": [
    {
     "name": "stdout",
     "output_type": "stream",
     "text": [
      "Hello chandan\n",
      "Hello amit\n",
      "Hello Swati\n"
     ]
    }
   ],
   "source": [
    "welcom(\"chandan\",\"amit\",\"Swati\")\n"
   ]
  },
  {
   "cell_type": "code",
   "execution_count": 25,
   "id": "75561346",
   "metadata": {},
   "outputs": [],
   "source": [
    "x_list=[1,11,22,3,4,6,8,9,0,21,18]"
   ]
  },
  {
   "cell_type": "code",
   "execution_count": 26,
   "id": "40e0af13",
   "metadata": {},
   "outputs": [
    {
     "data": {
      "text/plain": [
       "<filter at 0x131095cf6d0>"
      ]
     },
     "execution_count": 26,
     "metadata": {},
     "output_type": "execute_result"
    }
   ],
   "source": [
    "filter(lambda val:val%2==0,x_list)"
   ]
  },
  {
   "cell_type": "code",
   "execution_count": 27,
   "id": "0b926f87",
   "metadata": {},
   "outputs": [
    {
     "data": {
      "text/plain": [
       "[22, 4, 6, 8, 0, 18]"
      ]
     },
     "execution_count": 27,
     "metadata": {},
     "output_type": "execute_result"
    }
   ],
   "source": [
    "list(filter(lambda val:val%2==0,x_list))"
   ]
  },
  {
   "cell_type": "code",
   "execution_count": 28,
   "id": "56b0565a",
   "metadata": {},
   "outputs": [
    {
     "data": {
      "text/plain": [
       "<map at 0x13106f5ecd0>"
      ]
     },
     "execution_count": 28,
     "metadata": {},
     "output_type": "execute_result"
    }
   ],
   "source": [
    "map(lambda x:pow(x,2),x_list)"
   ]
  },
  {
   "cell_type": "code",
   "execution_count": 29,
   "id": "02b01c7f",
   "metadata": {},
   "outputs": [
    {
     "data": {
      "text/plain": [
       "[1, 121, 484, 9, 16, 36, 64, 81, 0, 441, 324]"
      ]
     },
     "execution_count": 29,
     "metadata": {},
     "output_type": "execute_result"
    }
   ],
   "source": [
    "list(map(lambda x:pow(x,2),x_list))"
   ]
  },
  {
   "cell_type": "markdown",
   "id": "1d8fdbcc",
   "metadata": {},
   "source": [
    "#NAMESPACE"
   ]
  },
  {
   "cell_type": "markdown",
   "id": "10fe9642",
   "metadata": {},
   "source": [
    "## Name space"
   ]
  },
  {
   "cell_type": "code",
   "execution_count": 35,
   "id": "651eb610",
   "metadata": {},
   "outputs": [],
   "source": [
    "#dir(__builtins__)"
   ]
  },
  {
   "cell_type": "code",
   "execution_count": 44,
   "id": "5028db7a",
   "metadata": {},
   "outputs": [],
   "source": [
    "n1=10\n",
    "n2=20\n",
    "\n",
    "def add(n1,n2):\n",
    "    temp=n1+n2\n",
    "    def sum_fun(n1,n2):\n",
    "        temp=n1-n2\n",
    "    return temp"
   ]
  },
  {
   "cell_type": "code",
   "execution_count": 43,
   "id": "765fd99d",
   "metadata": {},
   "outputs": [
    {
     "name": "stdout",
     "output_type": "stream",
     "text": [
      "None\n"
     ]
    },
    {
     "data": {
      "text/plain": [
       "30"
      ]
     },
     "execution_count": 43,
     "metadata": {},
     "output_type": "execute_result"
    }
   ],
   "source": [
    "add(n1,n2)"
   ]
  },
  {
   "cell_type": "code",
   "execution_count": 1,
   "id": "cfc535cc",
   "metadata": {},
   "outputs": [],
   "source": [
    "def singleNumber(nums):\n",
    "        return 2*sum(set(nums))-sum(nums)"
   ]
  },
  {
   "cell_type": "code",
   "execution_count": 2,
   "id": "6b30584c",
   "metadata": {},
   "outputs": [
    {
     "data": {
      "text/plain": [
       "2"
      ]
     },
     "execution_count": 2,
     "metadata": {},
     "output_type": "execute_result"
    }
   ],
   "source": [
    "singleNumber([1,1,2])"
   ]
  },
  {
   "cell_type": "code",
   "execution_count": 5,
   "id": "6bdf1167",
   "metadata": {},
   "outputs": [
    {
     "data": {
      "text/plain": [
       "6"
      ]
     },
     "execution_count": 5,
     "metadata": {},
     "output_type": "execute_result"
    }
   ],
   "source": [
    "2*sum(set([1,1,2]))"
   ]
  },
  {
   "cell_type": "code",
   "execution_count": 6,
   "id": "7c01d93b",
   "metadata": {},
   "outputs": [
    {
     "data": {
      "text/plain": [
       "4"
      ]
     },
     "execution_count": 6,
     "metadata": {},
     "output_type": "execute_result"
    }
   ],
   "source": [
    "sum([1,1,2])"
   ]
  },
  {
   "cell_type": "code",
   "execution_count": null,
   "id": "577baaf2",
   "metadata": {},
   "outputs": [],
   "source": []
  }
 ],
 "metadata": {
  "kernelspec": {
   "display_name": "Python 3 (ipykernel)",
   "language": "python",
   "name": "python3"
  },
  "language_info": {
   "codemirror_mode": {
    "name": "ipython",
    "version": 3
   },
   "file_extension": ".py",
   "mimetype": "text/x-python",
   "name": "python",
   "nbconvert_exporter": "python",
   "pygments_lexer": "ipython3",
   "version": "3.9.12"
  }
 },
 "nbformat": 4,
 "nbformat_minor": 5
}
