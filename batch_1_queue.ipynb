{
 "cells": [
  {
   "cell_type": "code",
   "execution_count": 1,
   "id": "6d5aad5d",
   "metadata": {},
   "outputs": [],
   "source": [
    "#Queue Using List"
   ]
  },
  {
   "cell_type": "code",
   "execution_count": 8,
   "id": "bcaeb6dd",
   "metadata": {},
   "outputs": [],
   "source": [
    "class myQueueList:\n",
    "    def __init__(self):\n",
    "        self.items=[]\n",
    "    def __str__(self):\n",
    "        values=[str(x) for x in self.items]\n",
    "        return ' '.join(values)\n",
    "    def isEmpty(self):\n",
    "        if self.items==[]:\n",
    "            return True\n",
    "        else:\n",
    "            return False\n",
    "    def enQueue(self,value):\n",
    "        self.items.append(value)\n",
    "        print(\"The elements added at end of queue\")\n",
    "    def dequeue(self):\n",
    "        if self.isEmpty():\n",
    "            return \"queue is empty\"\n",
    "        else:\n",
    "            self.items.pop(0)\n",
    "    def peek(self):\n",
    "        if self.isEmpty():\n",
    "            return \"the queue is empty\"\n",
    "        else:\n",
    "            return self.items[0]\n",
    "    def delete(self):\n",
    "        self.items=None\n",
    "        "
   ]
  },
  {
   "cell_type": "code",
   "execution_count": 9,
   "id": "2b7d6513",
   "metadata": {},
   "outputs": [],
   "source": [
    "queueObj=myQueueList()"
   ]
  },
  {
   "cell_type": "code",
   "execution_count": 10,
   "id": "e3848f15",
   "metadata": {},
   "outputs": [
    {
     "name": "stdout",
     "output_type": "stream",
     "text": [
      "The elements added at end of queue\n",
      "The elements added at end of queue\n",
      "The elements added at end of queue\n",
      "The elements added at end of queue\n"
     ]
    }
   ],
   "source": [
    "queueObj.enQueue(3)\n",
    "queueObj.enQueue(13)\n",
    "queueObj.enQueue(30)\n",
    "queueObj.enQueue(5)\n"
   ]
  },
  {
   "cell_type": "code",
   "execution_count": 11,
   "id": "9b620556",
   "metadata": {},
   "outputs": [
    {
     "name": "stdout",
     "output_type": "stream",
     "text": [
      "3 13 30 5\n"
     ]
    }
   ],
   "source": [
    "print(queueObj)"
   ]
  },
  {
   "cell_type": "code",
   "execution_count": 12,
   "id": "2b155b52",
   "metadata": {},
   "outputs": [
    {
     "data": {
      "text/plain": [
       "3"
      ]
     },
     "execution_count": 12,
     "metadata": {},
     "output_type": "execute_result"
    }
   ],
   "source": [
    "queueObj.peek()"
   ]
  },
  {
   "cell_type": "code",
   "execution_count": 13,
   "id": "83dd5d86",
   "metadata": {},
   "outputs": [
    {
     "data": {
      "text/plain": [
       "False"
      ]
     },
     "execution_count": 13,
     "metadata": {},
     "output_type": "execute_result"
    }
   ],
   "source": [
    "queueObj.isEmpty()"
   ]
  },
  {
   "cell_type": "code",
   "execution_count": null,
   "id": "6add7be6",
   "metadata": {},
   "outputs": [],
   "source": []
  }
 ],
 "metadata": {
  "kernelspec": {
   "display_name": "Python 3 (ipykernel)",
   "language": "python",
   "name": "python3"
  },
  "language_info": {
   "codemirror_mode": {
    "name": "ipython",
    "version": 3
   },
   "file_extension": ".py",
   "mimetype": "text/x-python",
   "name": "python",
   "nbconvert_exporter": "python",
   "pygments_lexer": "ipython3",
   "version": "3.9.12"
  }
 },
 "nbformat": 4,
 "nbformat_minor": 5
}
