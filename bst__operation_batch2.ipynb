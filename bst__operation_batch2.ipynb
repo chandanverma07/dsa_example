{
 "cells": [
  {
   "cell_type": "code",
   "execution_count": 13,
   "id": "2374fb89",
   "metadata": {},
   "outputs": [],
   "source": [
    "class MyBsTree:\n",
    "    def __init__(self,data=None):\n",
    "        self.left=None\n",
    "        self.right=None\n",
    "        self.data=data\n",
    "    def myInsertOperation(self,data):\n",
    "        if not self.data:\n",
    "            self.data=data\n",
    "            return\n",
    "        if self.data==data:\n",
    "            return\n",
    "        if data<self.data:\n",
    "            if self.left:\n",
    "                self.left.myInsertOperation(data)\n",
    "                return\n",
    "            self.left=MyBsTree(data)\n",
    "            return\n",
    "        if self.right:\n",
    "            self.right.myInsertOperation(data)\n",
    "            return\n",
    "        self.right=MyBsTree(data)\n",
    "    def bstSearch(self,data):\n",
    "        if data==self.data:\n",
    "            return True\n",
    "        if data<self.data:\n",
    "            if self.left==None:\n",
    "                return False\n",
    "            return self.left.bstSearch(data)\n",
    "        if self.right==None:\n",
    "            return\n",
    "        return self.right.bstSearch(data)\n",
    "    def preOrder(self,values):\n",
    "        if self.data is not None:\n",
    "            values.append(Self.data)\n",
    "        if self.left is not None:\n",
    "            self.left.preOrder(values)\n",
    "        if self.right is not None:\n",
    "            self.right.preOrder(values)\n",
    "        return values\n",
    "    def inOrder(self,values):\n",
    "        if self.left is not None:\n",
    "            self.left.inOrder(values)\n",
    "        if self.data is not None:\n",
    "            values.append(self.data)\n",
    "        if self.right is not None:\n",
    "            self.right.inOrder(values)\n",
    "        return values\n",
    "    def postOrder(self,values):\n",
    "        if self.left is not None:\n",
    "            self.left.postOrder(values)\n",
    "        if self.right is not None:\n",
    "            self.right.postOrder(values)\n",
    "        if self.data is not None:\n",
    "            values.append(self.data)\n",
    "        return values\n",
    "    def getMin(self):\n",
    "        current=self\n",
    "        while current.left is not None:\n",
    "            current=current.left\n",
    "        return current.data\n",
    "    def getMax(self):\n",
    "        current=self\n",
    "        while current.right is not None:\n",
    "            current=current.right\n",
    "        return current.data\n",
    "        "
   ]
  },
  {
   "cell_type": "code",
   "execution_count": 14,
   "id": "d0bae9fd",
   "metadata": {},
   "outputs": [],
   "source": [
    "treeObj=MyBsTree()"
   ]
  },
  {
   "cell_type": "code",
   "execution_count": 15,
   "id": "8b631407",
   "metadata": {},
   "outputs": [],
   "source": [
    "data_tree=[12,24,89,76,5,7,8,55,1,88,10]"
   ]
  },
  {
   "cell_type": "code",
   "execution_count": 16,
   "id": "e74d9bd6",
   "metadata": {},
   "outputs": [],
   "source": [
    "for i in data_tree:\n",
    "    treeObj.myInsertOperation(i)"
   ]
  },
  {
   "cell_type": "code",
   "execution_count": 9,
   "id": "8e748ad1",
   "metadata": {},
   "outputs": [],
   "source": [
    "#treeObj.bstSearch(0)"
   ]
  },
  {
   "cell_type": "code",
   "execution_count": 10,
   "id": "29684168",
   "metadata": {},
   "outputs": [],
   "source": [
    "#treeObj.bstSearch(88)"
   ]
  },
  {
   "cell_type": "code",
   "execution_count": 7,
   "id": "1f0e5b28",
   "metadata": {},
   "outputs": [],
   "source": [
    "#inorder"
   ]
  },
  {
   "cell_type": "code",
   "execution_count": 11,
   "id": "804bffeb",
   "metadata": {},
   "outputs": [],
   "source": [
    "#print(treeObj.inOrder([]))"
   ]
  },
  {
   "cell_type": "code",
   "execution_count": 17,
   "id": "4ec487af",
   "metadata": {},
   "outputs": [
    {
     "name": "stdout",
     "output_type": "stream",
     "text": [
      "89\n"
     ]
    }
   ],
   "source": [
    "print(treeObj.getMax())"
   ]
  },
  {
   "cell_type": "code",
   "execution_count": null,
   "id": "ad4ce3da",
   "metadata": {},
   "outputs": [],
   "source": []
  }
 ],
 "metadata": {
  "kernelspec": {
   "display_name": "Python 3 (ipykernel)",
   "language": "python",
   "name": "python3"
  },
  "language_info": {
   "codemirror_mode": {
    "name": "ipython",
    "version": 3
   },
   "file_extension": ".py",
   "mimetype": "text/x-python",
   "name": "python",
   "nbconvert_exporter": "python",
   "pygments_lexer": "ipython3",
   "version": "3.9.12"
  }
 },
 "nbformat": 4,
 "nbformat_minor": 5
}
