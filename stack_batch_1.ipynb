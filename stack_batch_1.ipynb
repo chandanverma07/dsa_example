{
 "cells": [
  {
   "cell_type": "code",
   "execution_count": 1,
   "id": "f581ce4b",
   "metadata": {},
   "outputs": [],
   "source": [
    "#Stack using stack"
   ]
  },
  {
   "cell_type": "code",
   "execution_count": 4,
   "id": "c8283937",
   "metadata": {},
   "outputs": [],
   "source": [
    "class myStack(object):\n",
    "    def __init__(self,limit=10):\n",
    "        self.stack=[]\n",
    "        self.limit=limit\n",
    "    def push(self,data):\n",
    "        if len(self.stack)>=self.limit:\n",
    "            print(\"stack overflow\")\n",
    "        else:\n",
    "            self.stack.append(data)\n",
    "    def pop(self):\n",
    "        if len(self.stack)<=0:\n",
    "            return -1\n",
    "        else:\n",
    "            return self.stack.pop()\n",
    "    def peek(self):\n",
    "        if len(self.stack)<=0:\n",
    "            return -1\n",
    "        else:\n",
    "            return self.stack[len(self.stack)-1]\n",
    "    def isEmpty(self):\n",
    "        return self.stack==[]\n",
    "    def size(self):\n",
    "        return len(self.stack)\n",
    "    def __str__(self):\n",
    "        return \" \".join([str(i) for i in self.stack])\n",
    "    \n",
    "            "
   ]
  },
  {
   "cell_type": "raw",
   "id": "f785f0b1",
   "metadata": {},
   "source": [
    "myStackObj=myStack()\n",
    "for i in range(1,20,3):\n",
    "    myStackObj.push(i)"
   ]
  },
  {
   "cell_type": "code",
   "execution_count": 10,
   "id": "d30b30dc",
   "metadata": {},
   "outputs": [],
   "source": [
    "#print(myStackObj)"
   ]
  },
  {
   "cell_type": "code",
   "execution_count": 11,
   "id": "ba97b5a0",
   "metadata": {},
   "outputs": [],
   "source": [
    "#myStackObj.size()"
   ]
  },
  {
   "cell_type": "code",
   "execution_count": 12,
   "id": "3e109f01",
   "metadata": {},
   "outputs": [],
   "source": [
    "#myStackObj.pop()"
   ]
  },
  {
   "cell_type": "code",
   "execution_count": 13,
   "id": "edb66b47",
   "metadata": {},
   "outputs": [],
   "source": [
    "#myStackObj.peek()"
   ]
  },
  {
   "cell_type": "markdown",
   "id": "f1d1bdac",
   "metadata": {},
   "source": [
    "### stack using linked list"
   ]
  },
  {
   "cell_type": "code",
   "execution_count": 32,
   "id": "df4238a2",
   "metadata": {},
   "outputs": [],
   "source": [
    "class Node:\n",
    "    def __init__(self,value=None):\n",
    "        self.value=value\n",
    "        self.next=None"
   ]
  },
  {
   "cell_type": "code",
   "execution_count": 37,
   "id": "d6ddebe1",
   "metadata": {},
   "outputs": [],
   "source": [
    "class LinkedList:\n",
    "    def __init__(self):\n",
    "        self.head=None\n",
    "    def __iter__(Self):\n",
    "        curNode=self.head\n",
    "        while curNode:\n",
    "            yield curNode\n",
    "            curNode=curNode.next"
   ]
  },
  {
   "cell_type": "code",
   "execution_count": 38,
   "id": "755366c4",
   "metadata": {},
   "outputs": [],
   "source": [
    "class StackLinkedList:\n",
    "    def __init__(self):\n",
    "        self.LinkedList=LinkedList()\n",
    "    def __str__(self):\n",
    "        values=[str(x.value) for x in self.LinkedList]\n",
    "        return '\\n'.join(values)\n",
    "    def isEmpty(self):\n",
    "        if self.LinkedList.head==None:\n",
    "            return True\n",
    "        else:\n",
    "            return False\n",
    "    def push(self,value):\n",
    "        node=Node(value)\n",
    "        node.next=self.LinkedList.head\n",
    "        self.LinkedList.head=node\n",
    "    def pop(self):\n",
    "        if self.isEmpty():\n",
    "            return \"there is no any element\"\n",
    "        else:\n",
    "            nodeValue=self.LinkedList.head.value\n",
    "            self.LinkedList.head=self.LinkedList.head.next\n",
    "            return nodeValue\n",
    "    def peek(self):\n",
    "        if self.isEmpty():\n",
    "            return \"There is no any element\"\n",
    "        else:\n",
    "            nodeValue=self.LinkedList.head.value\n",
    "            return nodeValue\n",
    "    def delete(self):\n",
    "        self.LinkedList.head=None\n",
    "        "
   ]
  },
  {
   "cell_type": "code",
   "execution_count": 39,
   "id": "a4fa5944",
   "metadata": {},
   "outputs": [],
   "source": [
    "myLinkedListObj=StackLinkedList()"
   ]
  },
  {
   "cell_type": "code",
   "execution_count": 40,
   "id": "9ea4e7cd",
   "metadata": {},
   "outputs": [],
   "source": [
    "myLinkedListObj.push(11)"
   ]
  },
  {
   "cell_type": "code",
   "execution_count": 41,
   "id": "6570ad05",
   "metadata": {},
   "outputs": [],
   "source": [
    "myLinkedListObj.push(12)\n",
    "myLinkedListObj.push(13)"
   ]
  },
  {
   "cell_type": "code",
   "execution_count": 43,
   "id": "e89526d1",
   "metadata": {},
   "outputs": [
    {
     "data": {
      "text/plain": [
       "13"
      ]
     },
     "execution_count": 43,
     "metadata": {},
     "output_type": "execute_result"
    }
   ],
   "source": [
    "myLinkedListObj.peek()"
   ]
  },
  {
   "cell_type": "code",
   "execution_count": null,
   "id": "384cc3ae",
   "metadata": {},
   "outputs": [],
   "source": [
    "my"
   ]
  }
 ],
 "metadata": {
  "kernelspec": {
   "display_name": "Python 3 (ipykernel)",
   "language": "python",
   "name": "python3"
  },
  "language_info": {
   "codemirror_mode": {
    "name": "ipython",
    "version": 3
   },
   "file_extension": ".py",
   "mimetype": "text/x-python",
   "name": "python",
   "nbconvert_exporter": "python",
   "pygments_lexer": "ipython3",
   "version": "3.9.12"
  }
 },
 "nbformat": 4,
 "nbformat_minor": 5
}
