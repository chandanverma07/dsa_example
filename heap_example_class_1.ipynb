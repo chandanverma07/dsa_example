{
 "cells": [
  {
   "cell_type": "code",
   "execution_count": 1,
   "id": "216be3e8",
   "metadata": {},
   "outputs": [
    {
     "name": "stdout",
     "output_type": "stream",
     "text": [
      "[1, 3, 2, 9, 4, 5]\n"
     ]
    }
   ],
   "source": [
    "def min_heapify(A,k):\n",
    "    l = left(k)\n",
    "    r = right(k)\n",
    "    if l < len(A) and A[l] < A[k]:\n",
    "        smallest = l\n",
    "    else:\n",
    "        smallest = k\n",
    "    if r < len(A) and A[r] < A[smallest]:\n",
    "        smallest = r\n",
    "    if smallest != k:\n",
    "        A[k], A[smallest] = A[smallest], A[k]\n",
    "        min_heapify(A, smallest)\n",
    "\n",
    "def left(k):\n",
    "    return 2 * k + 1\n",
    "\n",
    "def right(k):\n",
    "    return 2 * k + 2\n",
    "\n",
    "def build_min_heap(A):\n",
    "    n = int((len(A)//2)-1)\n",
    "    for k in range(n, -1, -1):\n",
    "        min_heapify(A,k)\n",
    "\n",
    "A = [3,9,2,1,4,5]\n",
    "build_min_heap(A)\n",
    "print(A)"
   ]
  },
  {
   "cell_type": "code",
   "execution_count": 3,
   "id": "d2e98f72",
   "metadata": {},
   "outputs": [
    {
     "ename": "NameError",
     "evalue": "name 'k' is not defined",
     "output_type": "error",
     "traceback": [
      "\u001b[1;31m---------------------------------------------------------------------------\u001b[0m",
      "\u001b[1;31mNameError\u001b[0m                                 Traceback (most recent call last)",
      "Input \u001b[1;32mIn [3]\u001b[0m, in \u001b[0;36m<cell line: 26>\u001b[1;34m()\u001b[0m\n\u001b[0;32m     23\u001b[0m         max_heapify(A,k)\n\u001b[0;32m     25\u001b[0m A \u001b[38;5;241m=\u001b[39m [\u001b[38;5;241m3\u001b[39m,\u001b[38;5;241m9\u001b[39m,\u001b[38;5;241m2\u001b[39m,\u001b[38;5;241m1\u001b[39m,\u001b[38;5;241m4\u001b[39m,\u001b[38;5;241m5\u001b[39m]\n\u001b[1;32m---> 26\u001b[0m \u001b[43mbuild_max_heap\u001b[49m\u001b[43m(\u001b[49m\u001b[43mA\u001b[49m\u001b[43m)\u001b[49m\n\u001b[0;32m     27\u001b[0m \u001b[38;5;28mprint\u001b[39m(A)\n",
      "Input \u001b[1;32mIn [3]\u001b[0m, in \u001b[0;36mbuild_max_heap\u001b[1;34m(A)\u001b[0m\n\u001b[0;32m     21\u001b[0m n \u001b[38;5;241m=\u001b[39m \u001b[38;5;28mint\u001b[39m((\u001b[38;5;28mlen\u001b[39m(A)\u001b[38;5;241m/\u001b[39m\u001b[38;5;241m/\u001b[39m\u001b[38;5;241m2\u001b[39m)\u001b[38;5;241m-\u001b[39m\u001b[38;5;241m1\u001b[39m)\n\u001b[0;32m     22\u001b[0m \u001b[38;5;28;01mfor\u001b[39;00m k \u001b[38;5;129;01min\u001b[39;00m \u001b[38;5;28mrange\u001b[39m(n, \u001b[38;5;241m-\u001b[39m\u001b[38;5;241m1\u001b[39m, \u001b[38;5;241m-\u001b[39m\u001b[38;5;241m1\u001b[39m):\n\u001b[1;32m---> 23\u001b[0m     \u001b[43mmax_heapify\u001b[49m\u001b[43m(\u001b[49m\u001b[43mA\u001b[49m\u001b[43m,\u001b[49m\u001b[43mk\u001b[49m\u001b[43m)\u001b[49m\n",
      "Input \u001b[1;32mIn [3]\u001b[0m, in \u001b[0;36mmax_heapify\u001b[1;34m(A, k)\u001b[0m\n\u001b[0;32m      1\u001b[0m \u001b[38;5;28;01mdef\u001b[39;00m \u001b[38;5;21mmax_heapify\u001b[39m(A,k):\n\u001b[0;32m      2\u001b[0m     l \u001b[38;5;241m=\u001b[39m left(k)\n\u001b[1;32m----> 3\u001b[0m     r \u001b[38;5;241m=\u001b[39m \u001b[43mright\u001b[49m\u001b[43m(\u001b[49m\u001b[43mk\u001b[49m\u001b[43m)\u001b[49m\n\u001b[0;32m      4\u001b[0m     \u001b[38;5;28;01mif\u001b[39;00m l \u001b[38;5;241m<\u001b[39m \u001b[38;5;28mlen\u001b[39m(A) \u001b[38;5;129;01mand\u001b[39;00m A[l] \u001b[38;5;241m>\u001b[39m A[k]:\n\u001b[0;32m      5\u001b[0m         largest \u001b[38;5;241m=\u001b[39m l\n",
      "Input \u001b[1;32mIn [3]\u001b[0m, in \u001b[0;36mright\u001b[1;34m(i)\u001b[0m\n\u001b[0;32m     17\u001b[0m \u001b[38;5;28;01mdef\u001b[39;00m \u001b[38;5;21mright\u001b[39m(i):\n\u001b[1;32m---> 18\u001b[0m     \u001b[38;5;28;01mreturn\u001b[39;00m \u001b[38;5;241m2\u001b[39m \u001b[38;5;241m*\u001b[39m \u001b[43mk\u001b[49m \u001b[38;5;241m+\u001b[39m \u001b[38;5;241m2\u001b[39m\n",
      "\u001b[1;31mNameError\u001b[0m: name 'k' is not defined"
     ]
    }
   ],
   "source": [
    "def max_heapify(A,k):\n",
    "    l = left(k)\n",
    "    r = right(k)\n",
    "    if l < len(A) and A[l] > A[k]:\n",
    "        largest = l\n",
    "    else:\n",
    "        largest = k\n",
    "    if r < len(A) and A[r] > A[largest]:\n",
    "        largest = r\n",
    "    if largest != k:\n",
    "        A[k], A[largest] = A[largest], A[k]\n",
    "        max_heapify(A, largest)\n",
    "\n",
    "def left(k):\n",
    "    return 2 * k + 1\n",
    "\n",
    "def right(i):\n",
    "    return 2 * k + 2\n",
    "\n",
    "def build_max_heap(A):\n",
    "    n = int((len(A)//2)-1)\n",
    "    for k in range(n, -1, -1):\n",
    "        max_heapify(A,k)\n",
    "\n",
    "A = [3,9,2,1,4,5]\n",
    "build_max_heap(A)\n",
    "print(A)"
   ]
  },
  {
   "cell_type": "code",
   "execution_count": null,
   "id": "8abdcdd5",
   "metadata": {},
   "outputs": [],
   "source": [
    "list(range(5,-1,-1))"
   ]
  },
  {
   "cell_type": "code",
   "execution_count": null,
   "id": "c5fcc8f4",
   "metadata": {},
   "outputs": [],
   "source": []
  },
  {
   "cell_type": "code",
   "execution_count": 4,
   "id": "306e5370",
   "metadata": {},
   "outputs": [
    {
     "name": "stdout",
     "output_type": "stream",
     "text": [
      "5\n"
     ]
    }
   ],
   "source": [
    "\"\"\"\n",
    "Min Heap Implementation in Python\n",
    "\"\"\"\n",
    "class MinHeap:\n",
    "    def __init__(self):\n",
    "        \"\"\"\n",
    "        On this implementation the heap list is initialized with a value\n",
    "        \"\"\"\n",
    "        self.heap_list = [0]\n",
    "        self.current_size = 0\n",
    " \n",
    "    def sift_up(self, i):\n",
    "        \"\"\"\n",
    "        Moves the value up in the tree to maintain the heap property.\n",
    "        \"\"\"\n",
    "        # While the element is not the root or the left element\n",
    "        Stop = False\n",
    "        while (i // 2 > 0) and Stop == False:\n",
    "            # If the element is less than its parent swap the elements\n",
    "            if self.heap_list[i] < self.heap_list[i // 2]:\n",
    "                self.heap_list[i], self.heap_list[i // 2] = self.heap_list[i // 2], self.heap_list[i]\n",
    "            else:\n",
    "                Stop = True\n",
    "            # Move the index to the parent to keep the properties\n",
    "            i = i // 2\n",
    " \n",
    "    def insert(self, k):\n",
    "        \"\"\"\n",
    "        Inserts a value into the heap\n",
    "        \"\"\"\n",
    "        # Append the element to the heap\n",
    "        self.heap_list.append(k)\n",
    "        # Increase the size of the heap.\n",
    "        self.current_size += 1\n",
    "        # Move the element to its position from bottom to the top\n",
    "        self.sift_up(self.current_size)\n",
    " \n",
    "    def sift_down(self, i):\n",
    "        # if the current node has at least one child\n",
    "        while (i * 2) <= self.current_size:\n",
    "            # Get the index of the min child of the current node\n",
    "            mc = self.min_child(i)\n",
    "            # Swap the values of the current element is greater than its min child\n",
    "            if self.heap_list[i] > self.heap_list[mc]:\n",
    "                self.heap_list[i], self.heap_list[mc] = self.heap_list[mc], self.heap_list[i]\n",
    "            i = mc\n",
    " \n",
    "    def min_child(self, i):\n",
    "        # If the current node has only one child, return the index of the unique child\n",
    "        if (i * 2)+1 > self.current_size:\n",
    "            return i * 2\n",
    "        else:\n",
    "            # Herein the current node has two children\n",
    "            # Return the index of the min child according to their values\n",
    "            if self.heap_list[i*2] < self.heap_list[(i*2)+1]:\n",
    "                return i * 2\n",
    "            else:\n",
    "                return (i * 2) + 1\n",
    " \n",
    "    def delete_min(self):\n",
    "        # Equal to 1 since the heap list was initialized with a value\n",
    "        if len(self.heap_list) == 1:\n",
    "            return 'Empty heap'\n",
    " \n",
    "        # Get root of the heap (The min value of the heap)\n",
    "        root = self.heap_list[1]\n",
    " \n",
    "        # Move the last value of the heap to the root\n",
    "        self.heap_list[1] = self.heap_list[self.current_size]\n",
    " \n",
    "        # Pop the last value since a copy was set on the root\n",
    "        *self.heap_list, _ = self.heap_list\n",
    " \n",
    "        # Decrease the size of the heap\n",
    "        self.current_size -= 1\n",
    " \n",
    "        # Move down the root (value at index 1) to keep the heap property\n",
    "        self.sift_down(1)\n",
    " \n",
    "        # Return the min value of the heap\n",
    "        return root\n",
    "\"\"\"\n",
    "Driver program\n",
    "\"\"\"\n",
    "# Same tree as above example.\n",
    "my_heap = MinHeap()\n",
    "my_heap.insert(5)\n",
    "my_heap.insert(6)\n",
    "my_heap.insert(7)\n",
    "my_heap.insert(9)\n",
    "my_heap.insert(13)\n",
    "my_heap.insert(11)\n",
    "my_heap.insert(10)\n",
    "\n",
    "print(my_heap.delete_min()) # removing min node i.e 5 \n",
    "\n",
    " "
   ]
  },
  {
   "cell_type": "raw",
   "id": "27582a55",
   "metadata": {},
   "source": [
    "https://walkccc.me/LeetCode/problems/0001/"
   ]
  },
  {
   "cell_type": "code",
   "execution_count": null,
   "id": "dd18f991",
   "metadata": {},
   "outputs": [],
   "source": []
  }
 ],
 "metadata": {
  "kernelspec": {
   "display_name": "Python 3 (ipykernel)",
   "language": "python",
   "name": "python3"
  },
  "language_info": {
   "codemirror_mode": {
    "name": "ipython",
    "version": 3
   },
   "file_extension": ".py",
   "mimetype": "text/x-python",
   "name": "python",
   "nbconvert_exporter": "python",
   "pygments_lexer": "ipython3",
   "version": "3.9.12"
  }
 },
 "nbformat": 4,
 "nbformat_minor": 5
}
