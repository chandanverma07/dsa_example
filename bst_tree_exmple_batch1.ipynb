{
 "cells": [
  {
   "cell_type": "code",
   "execution_count": 1,
   "id": "69be47ba",
   "metadata": {},
   "outputs": [],
   "source": [
    "class MybstNode:\n",
    "    def __init__(self,val=None):\n",
    "        self.left=None\n",
    "        self.right=None\n",
    "        self.val=val\n",
    "    def bstInsert(self,val):\n",
    "        if not self.val:\n",
    "            self.val=val\n",
    "        if self.val==val:\n",
    "            return \n",
    "        if val<self.val:\n",
    "            if self.left:\n",
    "                self.left.bstInsert(val)\n",
    "                return\n",
    "            self.left=MybstNode(val)\n",
    "            return \n",
    "        if self.right:\n",
    "            self.right.bstInsert(val)\n",
    "            return\n",
    "        self.right=MybstNode(val)\n",
    "    def getMin(self):\n",
    "        current=self\n",
    "        while current.left is not None:\n",
    "            current=current.left\n",
    "        return current.val\n",
    "    def getMax(self):\n",
    "        current=self\n",
    "        while current.right is not None:\n",
    "            current=current.right\n",
    "        return current.val\n",
    "    def serchValue(self,val):\n",
    "        if val==self.val:\n",
    "            return val\n",
    "        if val<self.val:\n",
    "            if self.left==None:\n",
    "                return False\n",
    "            return self.left.serchValue(val)\n",
    "        if self.right==None:\n",
    "            return False\n",
    "        return self.right.serchValue(val)\n",
    "    def preOrder(self,vals):\n",
    "        if self.val is not None:\n",
    "            vals.append(self.val)\n",
    "        if self.left is not None:\n",
    "            self.left.preOrder(vals)\n",
    "        if self.right is not None:\n",
    "            self.right.preOrder(vals)\n",
    "        return vals\n",
    "    def inOrder(self,vals):\n",
    "        if self.left is not None:\n",
    "            self.left.inOrder(vals)\n",
    "        if self.val is not None:\n",
    "            vals.append(self.val)\n",
    "        if self.right is not None:\n",
    "            self.right.inOrder(vals)\n",
    "        return vals\n",
    "    def postOrder(self,vals):\n",
    "        if self.left is not None:\n",
    "            self.left.postOrder(vals)\n",
    "        if self.right is not None:\n",
    "            self.right.postOrder(vals)\n",
    "        if self.val is not None:\n",
    "            vals.append(self.val)\n",
    "        return vals\n",
    "    \n",
    "    \n",
    "    \n",
    "            "
   ]
  },
  {
   "cell_type": "code",
   "execution_count": 2,
   "id": "c78dc5ed",
   "metadata": {},
   "outputs": [],
   "source": [
    "nodeValue=[12,25,13,8,10,19,21,34,18]"
   ]
  },
  {
   "cell_type": "code",
   "execution_count": 3,
   "id": "38c56fec",
   "metadata": {},
   "outputs": [],
   "source": [
    "objBstNode=MybstNode()"
   ]
  },
  {
   "cell_type": "code",
   "execution_count": 5,
   "id": "ec4e61dd",
   "metadata": {},
   "outputs": [],
   "source": [
    "for i in nodeValue:\n",
    "    objBstNode.bstInsert(i)"
   ]
  },
  {
   "cell_type": "code",
   "execution_count": 6,
   "id": "53d87e80",
   "metadata": {},
   "outputs": [
    {
     "name": "stdout",
     "output_type": "stream",
     "text": [
      "PreOrder\n"
     ]
    }
   ],
   "source": [
    "print(\"PreOrder\")"
   ]
  },
  {
   "cell_type": "code",
   "execution_count": 7,
   "id": "ddb9d995",
   "metadata": {},
   "outputs": [
    {
     "name": "stdout",
     "output_type": "stream",
     "text": [
      "[12, 8, 10, 25, 13, 19, 18, 21, 34]\n"
     ]
    }
   ],
   "source": [
    "print(objBstNode.preOrder([]))"
   ]
  },
  {
   "cell_type": "code",
   "execution_count": 8,
   "id": "2d799d3e",
   "metadata": {},
   "outputs": [
    {
     "name": "stdout",
     "output_type": "stream",
     "text": [
      "[8, 10, 12, 13, 18, 19, 21, 25, 34]\n"
     ]
    }
   ],
   "source": [
    "print(objBstNode.inOrder([]))"
   ]
  },
  {
   "cell_type": "code",
   "execution_count": null,
   "id": "f3fc405c",
   "metadata": {},
   "outputs": [],
   "source": []
  }
 ],
 "metadata": {
  "kernelspec": {
   "display_name": "Python 3 (ipykernel)",
   "language": "python",
   "name": "python3"
  },
  "language_info": {
   "codemirror_mode": {
    "name": "ipython",
    "version": 3
   },
   "file_extension": ".py",
   "mimetype": "text/x-python",
   "name": "python",
   "nbconvert_exporter": "python",
   "pygments_lexer": "ipython3",
   "version": "3.9.12"
  }
 },
 "nbformat": 4,
 "nbformat_minor": 5
}
