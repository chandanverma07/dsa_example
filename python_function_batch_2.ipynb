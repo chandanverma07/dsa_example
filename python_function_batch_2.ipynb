{
 "cells": [
  {
   "cell_type": "code",
   "execution_count": 1,
   "id": "4c487bff",
   "metadata": {},
   "outputs": [],
   "source": [
    "def maxNumber(number):\n",
    "    \n",
    "    return max(number)"
   ]
  },
  {
   "cell_type": "code",
   "execution_count": 4,
   "id": "f4a38f25",
   "metadata": {},
   "outputs": [],
   "source": [
    "def funTest(x,y=0):\n",
    "    return x+y"
   ]
  },
  {
   "cell_type": "code",
   "execution_count": 2,
   "id": "d3103215",
   "metadata": {},
   "outputs": [
    {
     "data": {
      "text/plain": [
       "90"
      ]
     },
     "execution_count": 2,
     "metadata": {},
     "output_type": "execute_result"
    }
   ],
   "source": [
    "maxNumber([11,12,4,5,90])"
   ]
  },
  {
   "cell_type": "code",
   "execution_count": 5,
   "id": "c0e6fd66",
   "metadata": {},
   "outputs": [],
   "source": [
    "x_list=[11,12,13,4,6,7,90,8,7]"
   ]
  },
  {
   "cell_type": "code",
   "execution_count": 6,
   "id": "dc4a5e44",
   "metadata": {},
   "outputs": [
    {
     "data": {
      "text/plain": [
       "<filter at 0x15f8bc76070>"
      ]
     },
     "execution_count": 6,
     "metadata": {},
     "output_type": "execute_result"
    }
   ],
   "source": [
    "filter(lambda x:x%2==0,x_list)"
   ]
  },
  {
   "cell_type": "code",
   "execution_count": 7,
   "id": "1b72def7",
   "metadata": {},
   "outputs": [
    {
     "data": {
      "text/plain": [
       "[12, 4, 6, 90, 8]"
      ]
     },
     "execution_count": 7,
     "metadata": {},
     "output_type": "execute_result"
    }
   ],
   "source": [
    "list(filter(lambda x:x%2==0,x_list))"
   ]
  },
  {
   "cell_type": "code",
   "execution_count": 10,
   "id": "b23211e8",
   "metadata": {},
   "outputs": [
    {
     "data": {
      "text/plain": [
       "[121, 144, 169, 16, 36, 49, 8100, 64, 49]"
      ]
     },
     "execution_count": 10,
     "metadata": {},
     "output_type": "execute_result"
    }
   ],
   "source": [
    "list(map(lambda x:x*x,x_list))"
   ]
  },
  {
   "cell_type": "code",
   "execution_count": null,
   "id": "6b76f34c",
   "metadata": {},
   "outputs": [],
   "source": []
  }
 ],
 "metadata": {
  "kernelspec": {
   "display_name": "Python 3 (ipykernel)",
   "language": "python",
   "name": "python3"
  },
  "language_info": {
   "codemirror_mode": {
    "name": "ipython",
    "version": 3
   },
   "file_extension": ".py",
   "mimetype": "text/x-python",
   "name": "python",
   "nbconvert_exporter": "python",
   "pygments_lexer": "ipython3",
   "version": "3.9.12"
  }
 },
 "nbformat": 4,
 "nbformat_minor": 5
}
