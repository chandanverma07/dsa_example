{
 "cells": [
  {
   "cell_type": "markdown",
   "id": "231c1e26",
   "metadata": {},
   "source": [
    "### stack using list "
   ]
  },
  {
   "cell_type": "code",
   "execution_count": 10,
   "id": "9a718f16",
   "metadata": {},
   "outputs": [],
   "source": [
    "class MyStackList(object):\n",
    "    def __init__(self,limit=10):\n",
    "        self.stack_list=[]\n",
    "        self.limit=limit\n",
    "    def push(self,data):\n",
    "        if len(self.stack_list)>=self.limit:\n",
    "            print(\"stack is full\")\n",
    "        else:\n",
    "            self.stack_list.append(data)\n",
    "    def pop(self):\n",
    "        if len(self.stack_list)<=0:\n",
    "            return -1\n",
    "        else:\n",
    "            return self.stack_list.pop()\n",
    "    def peek(self):\n",
    "        if len(self.stack_list)<=0:\n",
    "            return -1\n",
    "        else:\n",
    "            return self.stack_list[len(self.stack_list)-1]\n",
    "    def isEmpty(self):\n",
    "        return self.stack_list==[]\n",
    "    def size(self):\n",
    "        return len(self.stack_list)\n",
    "    def __str__(self):\n",
    "        return ' '.join([str(i) for i in self.stack_list])\n",
    "    def search(self,value):\n",
    "        if value in self.stack_list:\n",
    "            return \"Value Exist\"\n",
    "        else:\n",
    "            return \"not exist\""
   ]
  },
  {
   "cell_type": "code",
   "execution_count": 11,
   "id": "94f6fdf2",
   "metadata": {},
   "outputs": [],
   "source": [
    "stackObj=MyStackList()"
   ]
  },
  {
   "cell_type": "code",
   "execution_count": 12,
   "id": "abdcdc95",
   "metadata": {},
   "outputs": [],
   "source": [
    "for i in range(10,30,3):\n",
    "    stackObj.push(i)"
   ]
  },
  {
   "cell_type": "code",
   "execution_count": 13,
   "id": "b819d06e",
   "metadata": {},
   "outputs": [],
   "source": [
    "stackObj.push(2)"
   ]
  },
  {
   "cell_type": "code",
   "execution_count": 14,
   "id": "8ff399f3",
   "metadata": {},
   "outputs": [
    {
     "name": "stdout",
     "output_type": "stream",
     "text": [
      "10 13 16 19 22 25 28 2\n"
     ]
    }
   ],
   "source": [
    "print(stackObj)"
   ]
  },
  {
   "cell_type": "code",
   "execution_count": 15,
   "id": "12b54f00",
   "metadata": {},
   "outputs": [
    {
     "data": {
      "text/plain": [
       "2"
      ]
     },
     "execution_count": 15,
     "metadata": {},
     "output_type": "execute_result"
    }
   ],
   "source": [
    "stackObj.pop()"
   ]
  },
  {
   "cell_type": "code",
   "execution_count": 16,
   "id": "00e31a16",
   "metadata": {},
   "outputs": [
    {
     "data": {
      "text/plain": [
       "'Value Exist'"
      ]
     },
     "execution_count": 16,
     "metadata": {},
     "output_type": "execute_result"
    }
   ],
   "source": [
    "stackObj.search(10)"
   ]
  },
  {
   "cell_type": "code",
   "execution_count": null,
   "id": "5668d475",
   "metadata": {},
   "outputs": [],
   "source": [
    "stackObj.peek()"
   ]
  },
  {
   "cell_type": "code",
   "execution_count": null,
   "id": "43fa1dc9",
   "metadata": {},
   "outputs": [],
   "source": [
    "stackObj.size()"
   ]
  },
  {
   "cell_type": "code",
   "execution_count": null,
   "id": "5f0299dd",
   "metadata": {},
   "outputs": [],
   "source": [
    "a=[0,0,111]"
   ]
  },
  {
   "cell_type": "code",
   "execution_count": null,
   "id": "8afa7b28",
   "metadata": {},
   "outputs": [],
   "source": [
    "a"
   ]
  },
  {
   "cell_type": "code",
   "execution_count": null,
   "id": "0926de22",
   "metadata": {},
   "outputs": [],
   "source": [
    "print(a)"
   ]
  },
  {
   "cell_type": "code",
   "execution_count": null,
   "id": "4b167e4b",
   "metadata": {},
   "outputs": [],
   "source": [
    "dir(MyStackList)"
   ]
  },
  {
   "cell_type": "code",
   "execution_count": 17,
   "id": "b157662b",
   "metadata": {},
   "outputs": [],
   "source": [
    "st=[1,2,3]"
   ]
  },
  {
   "cell_type": "code",
   "execution_count": 19,
   "id": "7e3b9ac1",
   "metadata": {},
   "outputs": [],
   "source": [
    "st.append(2)"
   ]
  },
  {
   "cell_type": "code",
   "execution_count": null,
   "id": "0975fab7",
   "metadata": {},
   "outputs": [],
   "source": []
  }
 ],
 "metadata": {
  "kernelspec": {
   "display_name": "Python 3 (ipykernel)",
   "language": "python",
   "name": "python3"
  },
  "language_info": {
   "codemirror_mode": {
    "name": "ipython",
    "version": 3
   },
   "file_extension": ".py",
   "mimetype": "text/x-python",
   "name": "python",
   "nbconvert_exporter": "python",
   "pygments_lexer": "ipython3",
   "version": "3.9.12"
  }
 },
 "nbformat": 4,
 "nbformat_minor": 5
}
